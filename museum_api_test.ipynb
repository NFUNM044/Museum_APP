{
 "cells": [
  {
   "cell_type": "code",
   "execution_count": 3,
   "metadata": {},
   "outputs": [
    {
     "name": "stdout",
     "output_type": "stream",
     "text": [
      "{'refresh_token': '25.08937b2c82eeb16d28799d00b34cb8fc.315360000.1891786490.282335-18031222', 'expires_in': 2592000, 'session_key': '9mzdXUCiMO/vxAjAM9b6AjXgsmQYSAxnAsb2vCFvOR7uBgdDrZhAmSqV9PzOSt6eSJBZGHmo3OtYzA4ZWsuk3vAryAZG9w==', 'access_token': '24.f4f737036304c3ee62f930df7f6b6f98.2592000.1579018490.282335-18031222', 'scope': 'audio_tts_post public brain_all_scope brain_body_analysis brain_body_attr brain_advanced_general_classify brain_body_number brain_driver_behavior brain_body_seg brain_gesture_detect brain_body_tracking brain_hand_analysis wise_adapt lebo_resource_base lightservice_public hetu_basic lightcms_map_poi kaidian_kaidian ApsMisTest_Test权限 vis-classify_flower lpq_开放 cop_helloScope ApsMis_fangdi_permission smartapp_snsapi_base iop_autocar oauth_tp_app smartapp_smart_game_openapi oauth_sessionkey smartapp_swanid_verify smartapp_opensource_openapi smartapp_opensource_recapi fake_face_detect_开放Scope vis-ocr_虚拟人物助理 idl-video_虚拟人物助理', 'session_secret': '3bde9608ddd19477752f360aca646f2e'}\n"
     ]
    }
   ],
   "source": [
    "# encoding:utf-8\n",
    "import requests \n",
    "\n",
    "# client_id 为官网获取的AK， client_secret 为官网获取的SK\n",
    "host = 'https://aip.baidubce.com/oauth/2.0/token?grant_type=client_credentials&client_id=kk6bnivEOb5XmsBDlcEYVzgW&client_secret=4mTFWBG0tcncxE1g8R0SrEdu486ew2iT'\n",
    "response = requests.get(host)\n",
    "if response:\n",
    "    print(response.json())"
   ]
  },
  {
   "cell_type": "markdown",
   "metadata": {},
   "source": [
    "# 人流量统计"
   ]
  },
  {
   "cell_type": "code",
   "execution_count": 9,
   "metadata": {},
   "outputs": [
    {
     "name": "stdout",
     "output_type": "stream",
     "text": [
      "{'person_num': 3, 'log_id': 5025924179891542800}\n"
     ]
    }
   ],
   "source": [
    "\n",
    "import base64\n",
    "\n",
    "'''\n",
    "人流量统计\n",
    "'''\n",
    "\n",
    "request_url = \"https://aip.baidubce.com/rest/2.0/image-classify/v1/body_num\"\n",
    "# 二进制方式打开图片文件\n",
    "f = open('test.png', 'rb')\n",
    "img = base64.b64encode(f.read())\n",
    "\n",
    "params = {'image':img}\n",
    "access_token = '24.f4f737036304c3ee62f930df7f6b6f98.2592000.1579018490.282335-18031222'\n",
    "request_url = request_url + \"?access_token=\" + access_token\n",
    "headers = {'content-type': 'application/x-www-form-urlencoded'}\n",
    "response = requests.post(request_url, data=params, headers=headers)\n",
    "if response:\n",
    "    print (response.json())"
   ]
  },
  {
   "cell_type": "markdown",
   "metadata": {},
   "source": [
    "# 物品识别"
   ]
  },
  {
   "cell_type": "code",
   "execution_count": 10,
   "metadata": {},
   "outputs": [
    {
     "name": "stdout",
     "output_type": "stream",
     "text": [
      "{'log_id': 4500452942695077776, 'result_num': 5, 'result': [{'score': 0.967055, 'root': '建筑-雕塑', 'keyword': '雕像'}, {'score': 0.796723, 'root': 'Logo', 'keyword': '百度'}, {'score': 0.565228, 'root': '商品-工艺品', 'keyword': '铜奔马'}, {'score': 0.354418, 'root': '商品-工艺品', 'keyword': '铜马'}, {'score': 0.087091, 'root': '商品-玩具', 'keyword': '玩具'}]}\n"
     ]
    }
   ],
   "source": [
    "# encoding:utf-8\n",
    "\n",
    "import requests\n",
    "import base64\n",
    "\n",
    "'''\n",
    "通用物体和场景识别\n",
    "'''\n",
    "\n",
    "request_url = \"https://aip.baidubce.com/rest/2.0/image-classify/v2/advanced_general\"\n",
    "# 二进制方式打开图片文件\n",
    "f = open('test1.jpg', 'rb')\n",
    "img = base64.b64encode(f.read())\n",
    "\n",
    "params = {\"image\":img}\n",
    "access_token = '24.f4f737036304c3ee62f930df7f6b6f98.2592000.1579018490.282335-18031222'\n",
    "request_url = request_url + \"?access_token=\" + access_token\n",
    "headers = {'content-type': 'application/x-www-form-urlencoded'}\n",
    "response = requests.post(request_url, data=params, headers=headers)\n",
    "if response:\n",
    "    print (response.json())"
   ]
  },
  {
   "cell_type": "code",
   "execution_count": null,
   "metadata": {},
   "outputs": [],
   "source": []
  }
 ],
 "metadata": {
  "kernelspec": {
   "display_name": "Python 3",
   "language": "python",
   "name": "python3"
  },
  "language_info": {
   "codemirror_mode": {
    "name": "ipython",
    "version": 3
   },
   "file_extension": ".py",
   "mimetype": "text/x-python",
   "name": "python",
   "nbconvert_exporter": "python",
   "pygments_lexer": "ipython3",
   "version": "3.7.1"
  }
 },
 "nbformat": 4,
 "nbformat_minor": 2
}
