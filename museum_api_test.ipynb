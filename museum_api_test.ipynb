{
 "cells": [
  {
   "cell_type": "markdown",
   "metadata": {},
   "source": [
    "# 人流量统计"
   ]
  },
  {
   "cell_type": "code",
   "execution_count": 9,
   "metadata": {},
   "outputs": [
    {
     "name": "stdout",
     "output_type": "stream",
     "text": [
      "{'person_num': 3, 'log_id': 5025924179891542800}\n"
     ]
    }
   ],
   "source": [
    "\n",
    "import base64\n",
    "\n",
    "'''\n",
    "人流量统计\n",
    "'''\n",
    "\n",
    "request_url = \"https://aip.baidubce.com/rest/2.0/image-classify/v1/body_num\"\n",
    "# 二进制方式打开图片文件\n",
    "f = open('test.png', 'rb')\n",
    "img = base64.b64encode(f.read())\n",
    "\n",
    "params = {'image':img}\n",
    "access_token = '24.f4f737036304c3ee62f930df7f6b6f98.2592000.1579018490.282335-18031222'\n",
    "request_url = request_url + \"?access_token=\" + access_token\n",
    "headers = {'content-type': 'application/x-www-form-urlencoded'}\n",
    "response = requests.post(request_url, data=params, headers=headers)\n",
    "if response:\n",
    "    print (response.json())"
   ]
  },
  {
   "cell_type": "markdown",
   "metadata": {},
   "source": [
    "# 物品识别"
   ]
  },
  {
   "cell_type": "code",
   "execution_count": 10,
   "metadata": {},
   "outputs": [
    {
     "name": "stdout",
     "output_type": "stream",
     "text": [
      "{'log_id': 4500452942695077776, 'result_num': 5, 'result': [{'score': 0.967055, 'root': '建筑-雕塑', 'keyword': '雕像'}, {'score': 0.796723, 'root': 'Logo', 'keyword': '百度'}, {'score': 0.565228, 'root': '商品-工艺品', 'keyword': '铜奔马'}, {'score': 0.354418, 'root': '商品-工艺品', 'keyword': '铜马'}, {'score': 0.087091, 'root': '商品-玩具', 'keyword': '玩具'}]}\n"
     ]
    }
   ],
   "source": [
    "# encoding:utf-8\n",
    "\n",
    "import requests\n",
    "import base64\n",
    "\n",
    "'''\n",
    "通用物体和场景识别\n",
    "'''\n",
    "\n",
    "request_url = \"https://aip.baidubce.com/rest/2.0/image-classify/v2/advanced_general\"\n",
    "# 二进制方式打开图片文件\n",
    "f = open('test1.jpg', 'rb')\n",
    "img = base64.b64encode(f.read())\n",
    "\n",
    "params = {\"image\":img}\n",
    "access_token = '24.f4f737036304c3ee62f930df7f6b6f98.2592000.1579018490.282335-18031222'\n",
    "request_url = request_url + \"?access_token=\" + access_token\n",
    "headers = {'content-type': 'application/x-www-form-urlencoded'}\n",
    "response = requests.post(request_url, data=params, headers=headers)\n",
    "if response:\n",
    "    print (response.json())"
   ]
  },
  {
   "cell_type": "code",
   "execution_count": null,
   "metadata": {},
   "outputs": [],
   "source": []
  }
 ],
 "metadata": {
  "kernelspec": {
   "display_name": "Python 3",
   "language": "python",
   "name": "python3"
  },
  "language_info": {
   "codemirror_mode": {
    "name": "ipython",
    "version": 3
   },
   "file_extension": ".py",
   "mimetype": "text/x-python",
   "name": "python",
   "nbconvert_exporter": "python",
   "pygments_lexer": "ipython3",
   "version": "3.7.1"
  }
 },
 "nbformat": 4,
 "nbformat_minor": 2
}
